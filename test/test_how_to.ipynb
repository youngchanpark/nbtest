{
 "cells": [
  {
   "cell_type": "markdown",
   "metadata": {},
   "source": [
    "# `%load_ext testmynb`"
   ]
  },
  {
   "cell_type": "markdown",
   "metadata": {},
   "source": [
    "Load testmynb to the ipython kernel to start using testmynb."
   ]
  },
  {
   "cell_type": "code",
   "execution_count": 1,
   "metadata": {},
   "outputs": [],
   "source": [
    "%load_ext testmynb"
   ]
  },
  {
   "cell_type": "markdown",
   "metadata": {},
   "source": [
    "# `%%testcell` Magic"
   ]
  },
  {
   "cell_type": "markdown",
   "metadata": {},
   "source": [
    "By loading `testmynb` to the ipython kernel, the `%%testcell` magic becomes available.  \n",
    "\n",
    "By adding the `%%testcell` magic to the cell, it flags the cell to be executed as a test by the `testmynb` command line tool. "
   ]
  },
  {
   "cell_type": "code",
   "execution_count": 2,
   "metadata": {},
   "outputs": [],
   "source": [
    "%%testcell example_test_cell\n",
    "\n",
    "assert 1==1, 'Example assert statement'"
   ]
  },
  {
   "cell_type": "markdown",
   "metadata": {},
   "source": [
    "# Test Cell"
   ]
  },
  {
   "cell_type": "markdown",
   "metadata": {},
   "source": [
    "Test cells should generally have two things: a title and an assert statement.\n",
    "\n",
    "**Cell Title**  \n",
    "The first positional argument of the cell magic line is used as the test cell's title.  \n",
    "\n",
    "When running `testmynb`, the failed/errored test cell's title is displayed to allow the user to distinguish which test failed/errored. If no title is given, the title falls back to `unnamed`.  \n",
    "\n",
    "You may still distinguish the failed/errored test cell by observing the cell body and the traceback of the test.\n",
    "\n",
    "**Assert Statement**  \n",
    "Like `pytest`, a test cell should contain an assert statement to test whatever you're testing.\n",
    "\n",
    "If any of the two above are missing, a message is displayed when the cell is executed."
   ]
  },
  {
   "cell_type": "code",
   "execution_count": 3,
   "metadata": {},
   "outputs": [
    {
     "name": "stdout",
     "output_type": "stream",
     "text": [
      "[testmynb] Assert statement missing.\n",
      "[testmynb] Cell title missing.\n"
     ]
    }
   ],
   "source": [
    "%%testcell\n",
    "test = True\n",
    "# No assert statement nor cell title. \n",
    "# Running this cell will print out a message \n",
    "# saying there is no assert statement nor a cell title."
   ]
  },
  {
   "cell_type": "markdown",
   "metadata": {},
   "source": [
    "# `-n` option"
   ]
  },
  {
   "cell_type": "markdown",
   "metadata": {},
   "source": [
    "The `-n` option is used to run the cell during the test, but not to treat it as a test. This can be used for cells which contain all the required import statements, or as a setup/teardown cell."
   ]
  },
  {
   "cell_type": "code",
   "execution_count": 4,
   "metadata": {},
   "outputs": [],
   "source": [
    "%%testcell import_statements -n\n",
    "import os\n",
    "import sys"
   ]
  }
 ],
 "metadata": {
  "kernelspec": {
   "display_name": "Python 3",
   "language": "python",
   "name": "python3"
  },
  "language_info": {
   "codemirror_mode": {
    "name": "ipython",
    "version": 3
   },
   "file_extension": ".py",
   "mimetype": "text/x-python",
   "name": "python",
   "nbconvert_exporter": "python",
   "pygments_lexer": "ipython3",
   "version": "3.6.4"
  },
  "toc": {
   "base_numbering": 1,
   "nav_menu": {},
   "number_sections": true,
   "sideBar": true,
   "skip_h1_title": false,
   "title_cell": "Table of Contents",
   "title_sidebar": "Contents",
   "toc_cell": false,
   "toc_position": {},
   "toc_section_display": true,
   "toc_window_display": false
  },
  "varInspector": {
   "cols": {
    "lenName": 16,
    "lenType": 16,
    "lenVar": 40
   },
   "kernels_config": {
    "python": {
     "delete_cmd_postfix": "",
     "delete_cmd_prefix": "del ",
     "library": "var_list.py",
     "varRefreshCmd": "print(var_dic_list())"
    },
    "r": {
     "delete_cmd_postfix": ") ",
     "delete_cmd_prefix": "rm(",
     "library": "var_list.r",
     "varRefreshCmd": "cat(var_dic_list()) "
    }
   },
   "types_to_exclude": [
    "module",
    "function",
    "builtin_function_or_method",
    "instance",
    "_Feature"
   ],
   "window_display": false
  }
 },
 "nbformat": 4,
 "nbformat_minor": 2
}
