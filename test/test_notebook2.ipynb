{
 "cells": [
  {
   "cell_type": "code",
   "execution_count": 1,
   "metadata": {},
   "outputs": [],
   "source": [
    "%load_ext testmynb"
   ]
  },
  {
   "cell_type": "markdown",
   "metadata": {},
   "source": [
    "# `-n` option"
   ]
  },
  {
   "cell_type": "markdown",
   "metadata": {},
   "source": [
    "The `-n` option can be used to run the cell during the test, but not to treat it as a test. This can be used for cells which contain all the required import statements, or as a setup/teardown cell."
   ]
  },
  {
   "cell_type": "code",
   "execution_count": 2,
   "metadata": {},
   "outputs": [],
   "source": [
    "%%testcell imports -n\n",
    "import pandas as pd\n",
    "import numpy as np"
   ]
  },
  {
   "cell_type": "markdown",
   "metadata": {},
   "source": [
    "# Why use *testmynb* ?"
   ]
  },
  {
   "cell_type": "markdown",
   "metadata": {},
   "source": [
    "There are times when your tests need some documentation, but text comments alone are just not sufficient enough to fully explain what the test is doing. By using `testmynb`, you may use Jupyter Notebook's features to explain your tests.\n",
    "\n",
    "Like the example below. Say deep in your Python package, you made a function which adds a label to a given x, y coordinate. You tried your best in the docstring what the function does, and you write the tests for the function which all passes."
   ]
  },
  {
   "cell_type": "code",
   "execution_count": 3,
   "metadata": {},
   "outputs": [],
   "source": [
    "%%testcell example_func -n\n",
    "# Your function in your imaginary package.\n",
    "def get_label(x: float, y: float) -> str:\n",
    "    \"\"\"\n",
    "    Based on the given coordinate, returns `purple`, `red`, and/or `orange` label.\n",
    "    \n",
    "    `purple`: 0<=x<30 and 30<y<=100\n",
    "    `red`: 20<=x<70 and 60<y<=100\n",
    "    `orange`: 70<=x<=100 and 30<y<=100\n",
    "    \"\"\"\n",
    "    assert 0 <= x <= 100\n",
    "    assert 0 <= y <= 100\n",
    "    \n",
    "    labels = list()\n",
    "    if (0 <= x < 30)\\\n",
    "        and (30 < y <= 100):\n",
    "        labels.append('purple')\n",
    "    if (20 <= x < 70)\\\n",
    "        and (60 < y <= 100):\n",
    "        labels.append('red')\n",
    "    if (70 <= x <= 100)\\\n",
    "        and (30 < y <= 100):\n",
    "        labels.append('orange')\n",
    "        \n",
    "    return ';'.join(labels)"
   ]
  },
  {
   "cell_type": "code",
   "execution_count": 4,
   "metadata": {},
   "outputs": [],
   "source": [
    "%%testcell test_get_label_original\n",
    "\n",
    "# Tests for the above function that all passes\n",
    "assert 'purple;red' == get_label(25, 70)\n",
    "assert 'purple' == get_label(10, 70)\n",
    "assert 'orange' == get_label(80, 50)\n",
    "assert '' == get_label(20, 20)"
   ]
  },
  {
   "cell_type": "markdown",
   "metadata": {},
   "source": [
    "Technically, this all passes and the function works as intended. But text only explanation of the function, and looking at the source itself just doesn't intuitively tell the reader what the function does. In this situation, a graphical explanation may aid in the reader to understand what the function/tests are doing. "
   ]
  },
  {
   "cell_type": "code",
   "execution_count": 5,
   "metadata": {},
   "outputs": [
    {
     "data": {
      "image/png": "[encoded data removed]",
      "text/plain": [
       "<Figure size 432x288 with 1 Axes>"
      ]
     },
     "metadata": {},
     "output_type": "display_data"
    }
   ],
   "source": [
    "import matplotlib.pyplot as plt\n",
    "%matplotlib inline\n",
    "\n",
    "fig = plt.figure()\n",
    "\n",
    "ax = fig.add_axes([0,0,1,1])\n",
    "# ax.scatter(grades_range, girls_grades, color='r')\n",
    "# ax.scatter(grades_range, boys_grades, color='b')\n",
    "ax.set_xlabel('X')\n",
    "ax.set_ylabel('Y')\n",
    "ax.set_title('Example Scatter Plot')\n",
    "\n",
    "ax.set_ylim(0, 100)\n",
    "ax.set_xlim(0, 100)\n",
    "\n",
    "ax.axvspan(20, 70, ymin=.6, ymax=.9, alpha=0.5, color='red')\n",
    "ax.axvspan(0, 30, ymin=.3, ymax=1.0, alpha=0.5, color='purple')\n",
    "ax.axvspan(70, 100, ymin=.3, ymax=1., alpha=0.5, color='orange')\n",
    "\n",
    "ax.scatter(25, 70) # This should output `purple;red`\n",
    "assert 'purple;red' == get_label(25, 70)\n",
    "ax.scatter(10, 70) # This should output `purple`\n",
    "assert 'purple' == get_label(10, 70)\n",
    "ax.scatter(80, 50) # This should output `orange`\n",
    "assert 'orange' == get_label(80, 50)\n",
    "ax.scatter(20, 20) # This should output ``\n",
    "assert '' == get_label(20, 20)\n",
    "plt.show()"
   ]
  },
  {
   "cell_type": "markdown",
   "metadata": {},
   "source": [
    "The above graphically shows what the function does and intuitively shows what the tests are testing!  \n",
    "\n",
    "Also, now we can graphically see what the function does, we can improve the tests with something like the `hypothesis` package!"
   ]
  },
  {
   "cell_type": "code",
   "execution_count": 6,
   "metadata": {
    "code_folding": []
   },
   "outputs": [],
   "source": [
    "%%testcell test_get_label_improved\n",
    "\n",
    "from hypothesis import given, strategies\n",
    "\n",
    "@given(\n",
    "    x = strategies.integers(min_value = 0, max_value = 19)\n",
    "    , y = strategies.integers(min_value = 31, max_value = 100)\n",
    ")\n",
    "def test_get_label_purple(x, y):\n",
    "    assert 'purple' == get_label(x, y)\n",
    "    \n",
    "    \n",
    "@given(\n",
    "    x = strategies.integers(min_value = 30, max_value = 69)\n",
    "    , y = strategies.integers(min_value = 61, max_value = 90)\n",
    ")\n",
    "def test_get_label_red(x, y):\n",
    "    assert 'red' == get_label(x, y)\n",
    "    \n",
    "@given(\n",
    "    x = strategies.integers(min_value = 70, max_value = 100)\n",
    "    , y = strategies.integers(min_value = 31, max_value = 100)\n",
    ")\n",
    "def test_get_label_orange(x, y):\n",
    "    assert 'orange' == get_label(x, y)"
   ]
  }
 ],
 "metadata": {
  "kernelspec": {
   "display_name": "Python 3",
   "language": "python",
   "name": "python3"
  },
  "language_info": {
   "codemirror_mode": {
    "name": "ipython",
    "version": 3
   },
   "file_extension": ".py",
   "mimetype": "text/x-python",
   "name": "python",
   "nbconvert_exporter": "python",
   "pygments_lexer": "ipython3",
   "version": "3.6.4"
  },
  "toc": {
   "base_numbering": 1,
   "nav_menu": {},
   "number_sections": true,
   "sideBar": true,
   "skip_h1_title": false,
   "title_cell": "Table of Contents",
   "title_sidebar": "Contents",
   "toc_cell": false,
   "toc_position": {},
   "toc_section_display": true,
   "toc_window_display": false
  },
  "varInspector": {
   "cols": {
    "lenName": 16,
    "lenType": 16,
    "lenVar": 40
   },
   "kernels_config": {
    "python": {
     "delete_cmd_postfix": "",
     "delete_cmd_prefix": "del ",
     "library": "var_list.py",
     "varRefreshCmd": "print(var_dic_list())"
    },
    "r": {
     "delete_cmd_postfix": ") ",
     "delete_cmd_prefix": "rm(",
     "library": "var_list.r",
     "varRefreshCmd": "cat(var_dic_list()) "
    }
   },
   "types_to_exclude": [
    "module",
    "function",
    "builtin_function_or_method",
    "instance",
    "_Feature"
   ],
   "window_display": false
  }
 },
 "nbformat": 4,
 "nbformat_minor": 2
}
