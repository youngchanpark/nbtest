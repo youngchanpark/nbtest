{
 "cells": [
  {
   "cell_type": "code",
   "execution_count": 1,
   "metadata": {},
   "outputs": [],
   "source": [
    "%load_ext testmynb"
   ]
  },
  {
   "cell_type": "code",
   "execution_count": 2,
   "metadata": {
    "code_folding": []
   },
   "outputs": [],
   "source": [
    "%%testcell setup -n\n",
    "import os\n",
    "from testmynb.notebook import TestCell, Notebook\n",
    "\n",
    "# Make an `empty.ipynb` file.\n",
    "with open('empty.ipynb', 'w') as f:\n",
    "    f.write('''{\n",
    "     \"cells\": [\n",
    "      {\n",
    "       \"cell_type\": \"code\",\n",
    "       \"execution_count\": null,\n",
    "       \"metadata\": {},\n",
    "       \"outputs\": [],\n",
    "       \"source\": [\"%%testcell\\\\n\"]\n",
    "      }\n",
    "     ],\n",
    "     \"metadata\": {},\n",
    "     \"nbformat\": 4,\n",
    "     \"nbformat_minor\": 4\n",
    "    }''')\n",
    "    \n",
    "empty_notebook = Notebook('empty.ipynb')\n",
    "test_cell_data = empty_notebook.cells[0]"
   ]
  },
  {
   "cell_type": "code",
   "execution_count": 3,
   "metadata": {},
   "outputs": [],
   "source": [
    "%%testcell test_cell_failure_test\n",
    "cell_object = test_cell_data.copy()\n",
    "cell_object['source'] += 'assert False'\n",
    "\n",
    "\n",
    "test_cell = TestCell(data = cell_object, notebook = empty_notebook)\n",
    "assert 'F'==test_cell()[0]"
   ]
  },
  {
   "cell_type": "code",
   "execution_count": 4,
   "metadata": {},
   "outputs": [],
   "source": [
    "%%testcell test_cell_error_test\n",
    "cell_object = test_cell_data.copy()\n",
    "cell_object['source'] += 'undefined_variable_called'\n",
    "\n",
    "test_cell = TestCell(data = cell_object, notebook = empty_notebook)\n",
    "assert 'E'==test_cell()[0]"
   ]
  },
  {
   "cell_type": "code",
   "execution_count": 5,
   "metadata": {},
   "outputs": [],
   "source": [
    "%%testcell teardown -n \n",
    "os.remove('empty.ipynb')"
   ]
  }
 ],
 "metadata": {
  "kernelspec": {
   "display_name": "Python 3",
   "language": "python",
   "name": "python3"
  },
  "toc": {
   "base_numbering": 1,
   "nav_menu": {},
   "number_sections": true,
   "sideBar": true,
   "skip_h1_title": false,
   "title_cell": "Table of Contents",
   "title_sidebar": "Contents",
   "toc_cell": false,
   "toc_position": {},
   "toc_section_display": true,
   "toc_window_display": false
  },
  "varInspector": {
   "cols": {
    "lenName": 16,
    "lenType": 16,
    "lenVar": 40
   },
   "kernels_config": {
    "python": {
     "delete_cmd_postfix": "",
     "delete_cmd_prefix": "del ",
     "library": "var_list.py",
     "varRefreshCmd": "print(var_dic_list())"
    },
    "r": {
     "delete_cmd_postfix": ") ",
     "delete_cmd_prefix": "rm(",
     "library": "var_list.r",
     "varRefreshCmd": "cat(var_dic_list()) "
    }
   },
   "types_to_exclude": [
    "module",
    "function",
    "builtin_function_or_method",
    "instance",
    "_Feature"
   ],
   "window_display": false
  }
 },
 "nbformat": 4,
 "nbformat_minor": 4
}
